Resumo aula:
O que é uma Estrutura de decisão?
divide o seu código em dois algoritmos distintos, mas somente um deles será executado com base em uma condição determinada pelo próprio programador: 
caso a condição seja verdadeira, ele irá executar um algoritmo. 
Caso essa mesma condição seja falsa, um outro algoritmo será executado no lugar.
Dessa forma, o programa poderá ser finalizado de duas formas diferentes. Ambos os algoritmos serão definidos pelo programador. 
Há também a possibilidade de ter mais de dois caminhos diferentes, e pode acontecer ainda do computador precisar avaliar duas ou mais condições diferentes simultaneamente.
------------------------------------------------------------
Estrutura if...else
----------------------------------------------------------
Também conhecido como se...senão.
Ex:um programa precisa verificar se um determinado usuário seja maior de idade ou não.
//estrutura de decisão
    if ($idade >= 18) {
        echo $nome . " é maior de idade.";
    }
    else {
        echo $nome . " é menor de idade.";
    }

 No PHP, caso uma decisão tenha apenas uma única linha de comando, como é o caso do código acima, não há a necessidade de chaves ({}). 
   //estrutura de decisão
    if ($idade >= 18) echo $nome . " é maior de idade.";
    else echo $nome . " é menor de idade.";

Há alguns casos em que será necessário que duas condições ou mais sejam aceitas para entrar em um resultado positivo.
result.php
<?php
    // declaração de variáveis
    $nome = $_POST["nome"];
    $idade = $_POST["idade"];
    $altura = $_POST["altura"];

    // estrutura de decisão
    if ($idade>=12 && $altura>=1.2) echo "A entrada de " . $nome . " foi autorizada.";
    else echo "A entrada de " . $nome . " não foi autorizada.";
?>
==> Aqui, o algoritmo precisará fazer duas verificações ao mesmo tempo, e as duas precisarão ser verdadeiras para que a estrutura retorne o resultado verdadeiro.
Para isso, precisaremos do operador lógico AND.

EXEMPLO DE ENTRADA DE DADOS
Informe no formulário, por exemplo, os seguintes dados:
Nome: Alex   Idade: 40    Altura: 1,72
==> A entrada de Alex não foi autorizada
    PORQUE?
As linguagens de programação fazem a separação das casas decimais com ponto ao invés da vírgula? 
O usuário informou a sua altura com o valor 1,72, colocando uma vírgula ao invés do ponto.
O valor 1,72 - Esse foi o valor enviado para o PHP, que entendeu o valor como uma string ao invés de float, justamente por causa da vírgula digitada.
Não consegue fazer a comparação do valor da variável altura com o valor 1.20 da estrutura de decisão.
Esse problema poderia ser resolvido simplesmente com o usuário informando o valor correto de 1.72 ao invés de 1,72 no formulário.
Entretanto, o usuário não sabe, nem tem a obrigação de saber disso. Logo, é tarefa sua resolver essa situação.

--------------
str_replace
----------------

Para resolver isso, precisaremos trocar no PHP a vírgula recebida pela variável altura por ponto, para que o PHP possa entender o valor como um float ao invés de string. 
É aí que entra a função str_replacedo PHP.

A função completa é str_replace("valor_original", "valor_novo", "elemento_que_possui_valor_a_ser_trocado");.

/ troca da vírgula pelo ponto
    $altura = str_replace(",", ".", $altura);
    
-------------------------------------------------------------------------------------------
A estrutura de decisao if...else trabalha com duas possibilidades: verdadeiro ou falso
-------------------------------------------------------------------------------------------

Back-End
result.php
<?php
    // declaração de variáveis
    $nome = $_POST["nome"];
    $nota = $_POST["nota"];

    // trocando a vírgula por ponto
    $nota = str_replace(",", ".", $nota);

    // valida a nota
    if ($nota >= 0 && $nota <= 10) {
        // avalia o aluno de acordo com a nota
        if ($nota >= 7) echo "O aluno " . $nome . " foi aprovado com nota " . $nota ".";
        else if ($nota >= 5) echo "O aluno " . $nome . " ficou de recuperação com nota " . $nota . ".";
        else echo "O aluno " . $nome . " está reprovado com nota " . $nota . ".";
    }
    else echo "Nota do aluno " . $nome . " informada é inválida.";
?>

ENTENDENDO O COD.

A primeira é um simples if...else. Repare que o if possui chaves ({}), pois a sua saída possui mais de uma linha, tornando as chaves obrigatória,
ao contrário do else, que só possui uma única linha de comando, e logo não precisa de chaves.
Dentro do primeiro if (o que possui chaves) há uma outra estrutura de decisão, que também é um if...else. 
Porém, esse possui 3 saídas possíveis: na primeira saída, o aluno é aprovado com nota maior ou igual a 7. 
Mas se sua nota não for maior ou igual a 7, ela ainda pode ser maior ou igual a 5, o que faz com que o aluno fique de recuepração, ou menor que 5, o que faz com que o aluno fique reprovado. 
Logo, a condição falsa possui duas saídas possíveis.
Nesse caso, na segunda saída, precisaremos colocar outra condicional, que é o da nota ser maior ou igual a 5, para indicar que o aluno está de recuperação. 
Não se preocupe com a condicional: se o algoritmo cair nessa condicional, é porque com certeza a nota é menor que 7. 
Por fim, o que sobra é a nota ser menor que 5. 
Nesse caso, usaremos o else. Não há a necessidade de adicionar condicional no else, já que ele é justamente o que sobra.

--------------------------------
Operador Ternário
---------------------------------
Operador Ternário é uma forma simplificada de fazer o if...else. 
Ele é mais vantajoso para sentenças mais curtas, quando a estrutura possui pouco código ou poucas informações, e também quando a estrutura possui poucas condições.
A estrutura do ternário é: ---> condição ? saída_verdadeiro : saída_falso;

Back-End
result.php
<?php
    // declaração de variáveis
    $nome = $_POST["nome"];
    $idade = $_POST["idade"];

    // operador ternário
    $result = $idade >= 18 ? " é maior de idade." : " é menor de idade.";

    // saída
    echo $nome . $result;
?>
-----------------------------------------------------------------
switch...case
------------------------------------------------------------------
É outra estrutura de decisão também, muito parecida com o if...else. A diferença é que o switch...case é mais usado quando:

Há 3 saídas ou até mais.
A condicional precisa avaliar um valor exato, e não um intervalo numérico, como acontece no if...else.

Diferentemente do if...else, o switch...case não usa condicionais.
Ele basicamente recebe o valor de uma variável, e retorna uma saída caso o valor dessa variável seja EXATAMENTE o que é exigido por determinada saída. 

Agora iremos usar o switch...case no back-end da aplicação. Veja:

Back-End
result.php
<?php
    // declaração de variáveis
    $sala = $_POST["sala"];

    // estrutura de decisão switch...case
    switch ($sala) {
        case "1":
            echo "A Roda Quadrada.";
            break;
        case "2":
            echo "A Volta Dos Que Não Foram.";
            break;
        case "3":
            echo "As Tranças do Rei Careca.";
            break;
        case "4":
            echo "Poeira em Alto Mar.";
            break;
        case "5":
            echo "A Vingança do Peixe Frito.";
            break;
        default:
            echo "Sala inexistente.";
    }

    // link para a página inicial
    echo '<br><a href="index.html">Selecionar outra sala</a>';
    ?>
    
Entendendo o código PHP
O switch significa escolha, onde cada um dos case é uma escolha baseada no valor da variável $sala. 
epare que o valor da sala é bem específico para cada case, e não um intervalo de números.
O break serve para que cada case se encerre ali, e faça com que o código vá para o final da sentença ao invés de procurar executar outro case. 
 O default serve para caso o usuário informe um valor não previsto pelo programa.
 
